{
 "cells": [
  {
   "cell_type": "code",
   "execution_count": 32,
   "id": "79743648",
   "metadata": {},
   "outputs": [
    {
     "data": {
      "text/html": [
       "<div>\n",
       "<style scoped>\n",
       "    .dataframe tbody tr th:only-of-type {\n",
       "        vertical-align: middle;\n",
       "    }\n",
       "\n",
       "    .dataframe tbody tr th {\n",
       "        vertical-align: top;\n",
       "    }\n",
       "\n",
       "    .dataframe thead th {\n",
       "        text-align: right;\n",
       "    }\n",
       "</style>\n",
       "<table border=\"1\" class=\"dataframe\">\n",
       "  <thead>\n",
       "    <tr style=\"text-align: right;\">\n",
       "      <th></th>\n",
       "      <th>country</th>\n",
       "      <th>date</th>\n",
       "      <th>total_cases</th>\n",
       "      <th>daily_new_cases</th>\n",
       "      <th>total_deaths</th>\n",
       "      <th>daily_new_deaths</th>\n",
       "    </tr>\n",
       "  </thead>\n",
       "  <tbody>\n",
       "    <tr>\n",
       "      <th>0</th>\n",
       "      <td>Afghanistan</td>\n",
       "      <td>2020-01-23</td>\n",
       "      <td>0.0</td>\n",
       "      <td>0.0</td>\n",
       "      <td>0.0</td>\n",
       "      <td>0.0</td>\n",
       "    </tr>\n",
       "    <tr>\n",
       "      <th>1</th>\n",
       "      <td>Afghanistan</td>\n",
       "      <td>2020-01-24</td>\n",
       "      <td>0.0</td>\n",
       "      <td>0.0</td>\n",
       "      <td>0.0</td>\n",
       "      <td>0.0</td>\n",
       "    </tr>\n",
       "    <tr>\n",
       "      <th>2</th>\n",
       "      <td>Afghanistan</td>\n",
       "      <td>2020-01-25</td>\n",
       "      <td>0.0</td>\n",
       "      <td>0.0</td>\n",
       "      <td>0.0</td>\n",
       "      <td>0.0</td>\n",
       "    </tr>\n",
       "    <tr>\n",
       "      <th>3</th>\n",
       "      <td>Afghanistan</td>\n",
       "      <td>2020-01-26</td>\n",
       "      <td>0.0</td>\n",
       "      <td>0.0</td>\n",
       "      <td>0.0</td>\n",
       "      <td>0.0</td>\n",
       "    </tr>\n",
       "    <tr>\n",
       "      <th>4</th>\n",
       "      <td>Afghanistan</td>\n",
       "      <td>2020-01-27</td>\n",
       "      <td>0.0</td>\n",
       "      <td>0.0</td>\n",
       "      <td>0.0</td>\n",
       "      <td>0.0</td>\n",
       "    </tr>\n",
       "  </tbody>\n",
       "</table>\n",
       "</div>"
      ],
      "text/plain": [
       "       country        date  total_cases  daily_new_cases  total_deaths  \\\n",
       "0  Afghanistan  2020-01-23          0.0              0.0           0.0   \n",
       "1  Afghanistan  2020-01-24          0.0              0.0           0.0   \n",
       "2  Afghanistan  2020-01-25          0.0              0.0           0.0   \n",
       "3  Afghanistan  2020-01-26          0.0              0.0           0.0   \n",
       "4  Afghanistan  2020-01-27          0.0              0.0           0.0   \n",
       "\n",
       "   daily_new_deaths  \n",
       "0               0.0  \n",
       "1               0.0  \n",
       "2               0.0  \n",
       "3               0.0  \n",
       "4               0.0  "
      ]
     },
     "execution_count": 32,
     "metadata": {},
     "output_type": "execute_result"
    }
   ],
   "source": [
    "import pandas as pd\n",
    "pd.set_option('mode.chained_assignment', None)\n",
    "\n",
    "df = pd.read_csv('COVID19-Cases-Global.csv')\n",
    "\n",
    "# Clean data\n",
    "df.fillna(0, inplace=True)\n",
    "\n",
    "df.head()"
   ]
  },
  {
   "cell_type": "code",
   "execution_count": 33,
   "id": "dd362721",
   "metadata": {},
   "outputs": [
    {
     "data": {
      "text/html": [
       "<div>\n",
       "<style scoped>\n",
       "    .dataframe tbody tr th:only-of-type {\n",
       "        vertical-align: middle;\n",
       "    }\n",
       "\n",
       "    .dataframe tbody tr th {\n",
       "        vertical-align: top;\n",
       "    }\n",
       "\n",
       "    .dataframe thead th {\n",
       "        text-align: right;\n",
       "    }\n",
       "</style>\n",
       "<table border=\"1\" class=\"dataframe\">\n",
       "  <thead>\n",
       "    <tr style=\"text-align: right;\">\n",
       "      <th></th>\n",
       "      <th>Country</th>\n",
       "    </tr>\n",
       "  </thead>\n",
       "  <tbody>\n",
       "    <tr>\n",
       "      <th>60</th>\n",
       "      <td>Gabon</td>\n",
       "    </tr>\n",
       "    <tr>\n",
       "      <th>61</th>\n",
       "      <td>Gambia</td>\n",
       "    </tr>\n",
       "    <tr>\n",
       "      <th>62</th>\n",
       "      <td>Georgia</td>\n",
       "    </tr>\n",
       "    <tr>\n",
       "      <th>63</th>\n",
       "      <td>Germany</td>\n",
       "    </tr>\n",
       "    <tr>\n",
       "      <th>64</th>\n",
       "      <td>Ghana</td>\n",
       "    </tr>\n",
       "  </tbody>\n",
       "</table>\n",
       "</div>"
      ],
      "text/plain": [
       "    Country\n",
       "60    Gabon\n",
       "61   Gambia\n",
       "62  Georgia\n",
       "63  Germany\n",
       "64    Ghana"
      ]
     },
     "execution_count": 33,
     "metadata": {},
     "output_type": "execute_result"
    }
   ],
   "source": [
    "# Last two digits of student number: 63\n",
    "# Afghanistan with index 0 is the first country\n",
    "# Therefore country at index 62 (63-1) is the 63rd country\n",
    "# 63rd country is Georgia\n",
    "\n",
    "countries = df['country'].unique()\n",
    "countries_df = pd.DataFrame(countries, columns=['Country'])\n",
    "countries_df.iloc[60:65]"
   ]
  },
  {
   "cell_type": "code",
   "execution_count": 39,
   "id": "3a15dc56",
   "metadata": {},
   "outputs": [
    {
     "data": {
      "text/html": [
       "<div>\n",
       "<style scoped>\n",
       "    .dataframe tbody tr th:only-of-type {\n",
       "        vertical-align: middle;\n",
       "    }\n",
       "\n",
       "    .dataframe tbody tr th {\n",
       "        vertical-align: top;\n",
       "    }\n",
       "\n",
       "    .dataframe thead th {\n",
       "        text-align: right;\n",
       "    }\n",
       "</style>\n",
       "<table border=\"1\" class=\"dataframe\">\n",
       "  <thead>\n",
       "    <tr style=\"text-align: right;\">\n",
       "      <th></th>\n",
       "      <th>country</th>\n",
       "      <th>date</th>\n",
       "      <th>total_cases</th>\n",
       "      <th>daily_new_cases</th>\n",
       "      <th>total_deaths</th>\n",
       "      <th>daily_new_deaths</th>\n",
       "    </tr>\n",
       "  </thead>\n",
       "  <tbody>\n",
       "    <tr>\n",
       "      <th>19779</th>\n",
       "      <td>Georgia</td>\n",
       "      <td>2020-01-23</td>\n",
       "      <td>0.0</td>\n",
       "      <td>0.0</td>\n",
       "      <td>0.0</td>\n",
       "      <td>0.0</td>\n",
       "    </tr>\n",
       "    <tr>\n",
       "      <th>19780</th>\n",
       "      <td>Georgia</td>\n",
       "      <td>2020-01-24</td>\n",
       "      <td>0.0</td>\n",
       "      <td>0.0</td>\n",
       "      <td>0.0</td>\n",
       "      <td>0.0</td>\n",
       "    </tr>\n",
       "    <tr>\n",
       "      <th>19781</th>\n",
       "      <td>Georgia</td>\n",
       "      <td>2020-01-25</td>\n",
       "      <td>0.0</td>\n",
       "      <td>0.0</td>\n",
       "      <td>0.0</td>\n",
       "      <td>0.0</td>\n",
       "    </tr>\n",
       "    <tr>\n",
       "      <th>19782</th>\n",
       "      <td>Georgia</td>\n",
       "      <td>2020-01-26</td>\n",
       "      <td>0.0</td>\n",
       "      <td>0.0</td>\n",
       "      <td>0.0</td>\n",
       "      <td>0.0</td>\n",
       "    </tr>\n",
       "    <tr>\n",
       "      <th>19783</th>\n",
       "      <td>Georgia</td>\n",
       "      <td>2020-01-27</td>\n",
       "      <td>0.0</td>\n",
       "      <td>0.0</td>\n",
       "      <td>0.0</td>\n",
       "      <td>0.0</td>\n",
       "    </tr>\n",
       "  </tbody>\n",
       "</table>\n",
       "</div>"
      ],
      "text/plain": [
       "       country        date  total_cases  daily_new_cases  total_deaths  \\\n",
       "19779  Georgia  2020-01-23          0.0              0.0           0.0   \n",
       "19780  Georgia  2020-01-24          0.0              0.0           0.0   \n",
       "19781  Georgia  2020-01-25          0.0              0.0           0.0   \n",
       "19782  Georgia  2020-01-26          0.0              0.0           0.0   \n",
       "19783  Georgia  2020-01-27          0.0              0.0           0.0   \n",
       "\n",
       "       daily_new_deaths  \n",
       "19779               0.0  \n",
       "19780               0.0  \n",
       "19781               0.0  \n",
       "19782               0.0  \n",
       "19783               0.0  "
      ]
     },
     "execution_count": 39,
     "metadata": {},
     "output_type": "execute_result"
    }
   ],
   "source": [
    "# Extract data from assigned country\n",
    "georgia_data = df[df['country'] == 'Georgia']\n",
    "georgia_data.head()"
   ]
  },
  {
   "cell_type": "code",
   "execution_count": 49,
   "id": "272974a3",
   "metadata": {},
   "outputs": [],
   "source": [
    "# 2. Moving Average 7 day plot with LinearRegression\n",
    "import numpy as np\n",
    "from sklearn.linear_model import LinearRegression\n",
    "from sklearn.preprocessing import PolynomialFeatures\n",
    "from sklearn.metrics import mean_squared_error\n",
    "import matplotlib.pyplot as plt\n",
    "\n",
    "# Compute the 7-day moving average of daily new cases\n",
    "georgia_data['7-day_moving_average'] = georgia_data['daily_new_cases'].rolling(window=7).mean()\n",
    "\n",
    "# Remove rows with missing values\n",
    "georgia_data = georgia_data.dropna()\n",
    "\n",
    "# Set up the features and target variables for the regression\n",
    "X = np.array(georgia_data.index).reshape(-1, 1)\n",
    "y = np.array(georgia_data['7-day_moving_average'])"
   ]
  },
  {
   "cell_type": "code",
   "execution_count": 53,
   "id": "0b88d0f4",
   "metadata": {},
   "outputs": [],
   "source": [
    "# 3. Split the data into training and test sets\n",
    "split_idx = int(len(X) * 0.8)\n",
    "X_train, X_test = X[:split_idx], X[split_idx:]\n",
    "y_train, y_test = y[:split_idx], y[split_idx:]"
   ]
  },
  {
   "cell_type": "code",
   "execution_count": 55,
   "id": "68d5a8a3",
   "metadata": {},
   "outputs": [
    {
     "name": "stdout",
     "output_type": "stream",
     "text": [
      "RMSE: 2296.7713364598\n"
     ]
    }
   ],
   "source": [
    "# Fit a polynomial regression model\n",
    "poly = PolynomialFeatures(degree=2)\n",
    "X_poly_train = poly.fit_transform(X_train)\n",
    "X_poly_test = poly.transform(X_test)\n",
    "poly_reg = LinearRegression()\n",
    "poly_reg.fit(X_poly_train, y_train)\n",
    "\n",
    "# Make predictions with the model\n",
    "y_pred = poly_reg.predict(X_poly_test)\n",
    "\n",
    "# 4. Evaluate the RMSE of the predictions\n",
    "rmse = mean_squared_error(y_test, y_pred, squared=False)\n",
    "print('RMSE:', rmse)"
   ]
  },
  {
   "cell_type": "code",
   "execution_count": 56,
   "id": "357caa3b",
   "metadata": {},
   "outputs": [
    {
     "data": {
      "image/png": "[encoded data removed]",
      "text/plain": [
       "<Figure size 432x288 with 1 Axes>"
      ]
     },
     "metadata": {
      "needs_background": "light"
     },
     "output_type": "display_data"
    }
   ],
   "source": [
    "# 5. Plot the original data and the regression line\n",
    "plt.scatter(X, y)\n",
    "plt.plot(X, poly_reg.predict(poly.transform(X)), color='red')\n",
    "plt.xlabel('Date')\n",
    "plt.ylabel('7-day moving average of daily new cases')\n",
    "plt.show()"
   ]
  },
  {
   "cell_type": "markdown",
   "id": "a4eb1122",
   "metadata": {},
   "source": [
    "#### 6. Explain the results\n",
    "\n",
    "An RMSE (Root Mean Squared Error) of 2296.7713 indicates the average difference between the predicted values and the actual values of the 7-day moving average of daily new cases is around 2296.7713.\n",
    "\n",
    "###### Describe how you made the program:\n",
    "I used Python and the pandas, numpy, scikit-learn, and matplotlib libraries to perform a regression analysis on a dataset of COVID-19 cases in Georgia (63rd countr).\n",
    "\n",
    "First, the program reads the dataset from a CSV file and filters it to include only data for Georgia. Then, it computes the 7-day moving average of daily new cases and removes any rows with missing values.\n",
    "\n",
    "Next, the program sets up the features and target variables for the regression and fits a polynomial regression model to the data. It makes predictions with the model and plots the original data and the regression line using matplotlib.\n",
    "\n",
    "Finally, the program evaluates the regression model using the root mean squared error (RMSE) metric, which measures the difference between the predicted and actual values of the target variable. The RMSE value of 2296.771 indicates that the model has a relatively high error rate and could potentially be improved with additional features or a different model type."
   ]
  }
 ],
 "metadata": {
  "kernelspec": {
   "display_name": "Python 3 (ipykernel)",
   "language": "python",
   "name": "python3"
  },
  "language_info": {
   "codemirror_mode": {
    "name": "ipython",
    "version": 3
   },
   "file_extension": ".py",
   "mimetype": "text/x-python",
   "name": "python",
   "nbconvert_exporter": "python",
   "pygments_lexer": "ipython3",
   "version": "3.9.7"
  }
 },
 "nbformat": 4,
 "nbformat_minor": 5
}
